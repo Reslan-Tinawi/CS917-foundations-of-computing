{
 "cells": [
  {
   "cell_type": "code",
   "execution_count": 1,
   "metadata": {},
   "outputs": [],
   "source": [
    "import csv\n",
    "import sys\n",
    "\n",
    "sys.path.insert(1, \"Skeleton/\")\n",
    "\n",
    "import parta"
   ]
  },
  {
   "cell_type": "code",
   "execution_count": 2,
   "metadata": {},
   "outputs": [],
   "source": [
    "data = []\n",
    "with open(\"cryptocompare_btc.csv\", \"r\") as f:\n",
    "    reader = csv.DictReader(f)\n",
    "    data = [r for r in reader]"
   ]
  },
  {
   "cell_type": "code",
   "execution_count": 3,
   "metadata": {},
   "outputs": [],
   "source": [
    "start_dates = [\n",
    "    \"01/01/2016\",\n",
    "    \"01/02/2016\",\n",
    "    \"01/12/2016\",\n",
    "]\n",
    "end_dates = [\n",
    "    \"31/01/2016\",\n",
    "    \"28/02/2016\",\n",
    "    \"31/12/2016\",\n",
    "]"
   ]
  },
  {
   "cell_type": "code",
   "execution_count": 4,
   "metadata": {},
   "outputs": [
    {
     "name": "stdout",
     "output_type": "stream",
     "text": [
      "01/01/2016 31/01/2016 462.92\n",
      "01/02/2016 28/02/2016 447.61\n",
      "01/12/2016 31/12/2016 982.57\n"
     ]
    }
   ],
   "source": [
    "for start_date, end_date in zip(start_dates, end_dates):\n",
    "    print(start_date, end_date, parta.highest_price(data, start_date, end_date))"
   ]
  },
  {
   "cell_type": "code",
   "execution_count": 5,
   "metadata": {},
   "outputs": [
    {
     "name": "stdout",
     "output_type": "stream",
     "text": [
      "01/01/2016 31/01/2016 350.39\n",
      "01/02/2016 28/02/2016 365.27\n",
      "01/12/2016 31/12/2016 741.08\n"
     ]
    }
   ],
   "source": [
    "for start_date, end_date in zip(start_dates, end_dates):\n",
    "    print(start_date, end_date, parta.lowest_price(data, start_date, end_date))"
   ]
  },
  {
   "cell_type": "code",
   "execution_count": 6,
   "metadata": {},
   "outputs": [
    {
     "name": "stdout",
     "output_type": "stream",
     "text": [
      "01/01/2016 31/01/2016 268141.73\n",
      "01/02/2016 28/02/2016 111626.76\n",
      "01/12/2016 31/12/2016 102224.08\n"
     ]
    }
   ],
   "source": [
    "for start_date, end_date in zip(start_dates, end_dates):\n",
    "    print(start_date, end_date, parta.max_volume(data, start_date, end_date))"
   ]
  },
  {
   "cell_type": "code",
   "execution_count": 7,
   "metadata": {},
   "outputs": [
    {
     "name": "stdout",
     "output_type": "stream",
     "text": [
      "01/01/2016 31/01/2016 455.5523025617217\n",
      "01/02/2016 28/02/2016 439.0143960593451\n",
      "01/12/2016 31/12/2016 968.9494656981099\n"
     ]
    }
   ],
   "source": [
    "for start_date, end_date in zip(start_dates, end_dates):\n",
    "    print(start_date, end_date, parta.best_avg_price(data, start_date, end_date))"
   ]
  },
  {
   "cell_type": "code",
   "execution_count": 8,
   "metadata": {},
   "outputs": [
    {
     "name": "stdout",
     "output_type": "stream",
     "text": [
      "01/01/2016 31/01/2016 411.89\n",
      "01/02/2016 28/02/2016 402.73\n",
      "01/12/2016 31/12/2016 824.83\n"
     ]
    }
   ],
   "source": [
    "for start_date, end_date in zip(start_dates, end_dates):\n",
    "    print(start_date, end_date, parta.moving_average(data, start_date, end_date))"
   ]
  },
  {
   "cell_type": "code",
   "execution_count": null,
   "metadata": {},
   "outputs": [],
   "source": []
  }
 ],
 "metadata": {
  "kernelspec": {
   "display_name": "data-analysis",
   "language": "python",
   "name": "python3"
  },
  "language_info": {
   "codemirror_mode": {
    "name": "ipython",
    "version": 3
   },
   "file_extension": ".py",
   "mimetype": "text/x-python",
   "name": "python",
   "nbconvert_exporter": "python",
   "pygments_lexer": "ipython3",
   "version": "3.12.0"
  }
 },
 "nbformat": 4,
 "nbformat_minor": 2
}
