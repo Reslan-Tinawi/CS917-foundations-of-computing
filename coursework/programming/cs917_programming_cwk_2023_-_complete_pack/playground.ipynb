{
 "cells": [
  {
   "cell_type": "markdown",
   "metadata": {},
   "source": [
    "1. time: epoch timestamp in second (in UTC time zone) – indicates the day\n",
    "2. high: highest BTC price of the day\n",
    "3. low: lowest BTC price of the day\n",
    "4. open: first BTC price of the day\n",
    "5. close: last BTC price of the day\n",
    "6. volumefrom: total volume (i.e., the total amount of currency exchanged) of the day in BTC\n",
    "7. volumeto: total (i.e., the total amount of currency exchanged) volume of the day in USD"
   ]
  },
  {
   "cell_type": "markdown",
   "metadata": {},
   "source": [
    "The data has been collected in daily between 28 April 2015 and 18 October 2020"
   ]
  },
  {
   "cell_type": "markdown",
   "metadata": {},
   "source": [
    "There are 2001 days between the start and end dates. Our dataset also consists of 2001 samples, thus, each record represents a day."
   ]
  },
  {
   "cell_type": "code",
   "execution_count": 1,
   "metadata": {},
   "outputs": [],
   "source": [
    "import pandas as pd\n",
    "import numpy as np\n",
    "import time\n",
    "import calendar\n",
    "from datetime import datetime\n",
    "from datetime import datetime\n",
    "import csv"
   ]
  },
  {
   "cell_type": "code",
   "execution_count": 2,
   "metadata": {},
   "outputs": [],
   "source": [
    "df = pd.read_csv('cryptocompare_btc.csv')"
   ]
  },
  {
   "cell_type": "code",
   "execution_count": 3,
   "metadata": {},
   "outputs": [
    {
     "data": {
      "text/html": [
       "<div>\n",
       "<style scoped>\n",
       "    .dataframe tbody tr th:only-of-type {\n",
       "        vertical-align: middle;\n",
       "    }\n",
       "\n",
       "    .dataframe tbody tr th {\n",
       "        vertical-align: top;\n",
       "    }\n",
       "\n",
       "    .dataframe thead th {\n",
       "        text-align: right;\n",
       "    }\n",
       "</style>\n",
       "<table border=\"1\" class=\"dataframe\">\n",
       "  <thead>\n",
       "    <tr style=\"text-align: right;\">\n",
       "      <th></th>\n",
       "      <th>time</th>\n",
       "      <th>high</th>\n",
       "      <th>low</th>\n",
       "      <th>open</th>\n",
       "      <th>close</th>\n",
       "      <th>volumefrom</th>\n",
       "      <th>volumeto</th>\n",
       "    </tr>\n",
       "  </thead>\n",
       "  <tbody>\n",
       "    <tr>\n",
       "      <th>0</th>\n",
       "      <td>1430179200</td>\n",
       "      <td>229.87</td>\n",
       "      <td>222.03</td>\n",
       "      <td>228.96</td>\n",
       "      <td>225.81</td>\n",
       "      <td>65971.19</td>\n",
       "      <td>14896418.52</td>\n",
       "    </tr>\n",
       "    <tr>\n",
       "      <th>1</th>\n",
       "      <td>1430265600</td>\n",
       "      <td>227.24</td>\n",
       "      <td>222.25</td>\n",
       "      <td>225.81</td>\n",
       "      <td>225.42</td>\n",
       "      <td>60889.41</td>\n",
       "      <td>13743340.35</td>\n",
       "    </tr>\n",
       "    <tr>\n",
       "      <th>2</th>\n",
       "      <td>1430352000</td>\n",
       "      <td>240.01</td>\n",
       "      <td>224.68</td>\n",
       "      <td>225.42</td>\n",
       "      <td>235.77</td>\n",
       "      <td>112238.62</td>\n",
       "      <td>26242196.77</td>\n",
       "    </tr>\n",
       "    <tr>\n",
       "      <th>3</th>\n",
       "      <td>1430438400</td>\n",
       "      <td>239.42</td>\n",
       "      <td>232.38</td>\n",
       "      <td>235.77</td>\n",
       "      <td>233.21</td>\n",
       "      <td>60139.08</td>\n",
       "      <td>14178420.18</td>\n",
       "    </tr>\n",
       "    <tr>\n",
       "      <th>4</th>\n",
       "      <td>1430524800</td>\n",
       "      <td>236.38</td>\n",
       "      <td>231.73</td>\n",
       "      <td>233.21</td>\n",
       "      <td>235.34</td>\n",
       "      <td>37075.60</td>\n",
       "      <td>8703582.59</td>\n",
       "    </tr>\n",
       "  </tbody>\n",
       "</table>\n",
       "</div>"
      ],
      "text/plain": [
       "         time    high     low    open   close  volumefrom     volumeto\n",
       "0  1430179200  229.87  222.03  228.96  225.81    65971.19  14896418.52\n",
       "1  1430265600  227.24  222.25  225.81  225.42    60889.41  13743340.35\n",
       "2  1430352000  240.01  224.68  225.42  235.77   112238.62  26242196.77\n",
       "3  1430438400  239.42  232.38  235.77  233.21    60139.08  14178420.18\n",
       "4  1430524800  236.38  231.73  233.21  235.34    37075.60   8703582.59"
      ]
     },
     "execution_count": 3,
     "metadata": {},
     "output_type": "execute_result"
    }
   ],
   "source": [
    "df.head()"
   ]
  },
  {
   "cell_type": "code",
   "execution_count": 4,
   "metadata": {},
   "outputs": [
    {
     "data": {
      "text/plain": [
       "time            int64\n",
       "high          float64\n",
       "low           float64\n",
       "open          float64\n",
       "close         float64\n",
       "volumefrom    float64\n",
       "volumeto      float64\n",
       "dtype: object"
      ]
     },
     "execution_count": 4,
     "metadata": {},
     "output_type": "execute_result"
    }
   ],
   "source": [
    "df.dtypes"
   ]
  },
  {
   "cell_type": "code",
   "execution_count": 5,
   "metadata": {},
   "outputs": [],
   "source": [
    "seconds_per_day = 24 * 60 * 60"
   ]
  },
  {
   "cell_type": "code",
   "execution_count": 6,
   "metadata": {},
   "outputs": [],
   "source": [
    "# my_timestamp = 0 + 30 * seconds_per_day\n",
    "my_timestamp = 1545730073"
   ]
  },
  {
   "cell_type": "code",
   "execution_count": 7,
   "metadata": {},
   "outputs": [],
   "source": [
    "dt = datetime.fromtimestamp(my_timestamp)"
   ]
  },
  {
   "cell_type": "code",
   "execution_count": 8,
   "metadata": {},
   "outputs": [
    {
     "name": "stdout",
     "output_type": "stream",
     "text": [
      "2018-12-25 09:27:53\n"
     ]
    }
   ],
   "source": [
    "print(dt)"
   ]
  },
  {
   "cell_type": "code",
   "execution_count": 9,
   "metadata": {},
   "outputs": [
    {
     "data": {
      "text/plain": [
       "datetime.datetime"
      ]
     },
     "execution_count": 9,
     "metadata": {},
     "output_type": "execute_result"
    }
   ],
   "source": [
    "type(dt)"
   ]
  },
  {
   "cell_type": "code",
   "execution_count": 10,
   "metadata": {},
   "outputs": [
    {
     "data": {
      "text/plain": [
       "1545730073.0"
      ]
     },
     "execution_count": 10,
     "metadata": {},
     "output_type": "execute_result"
    }
   ],
   "source": [
    "datetime.timestamp(dt)"
   ]
  },
  {
   "cell_type": "code",
   "execution_count": 11,
   "metadata": {},
   "outputs": [],
   "source": [
    "data = []\n",
    "with open(\"cryptocompare_btc.csv\", \"r\") as f:\n",
    "    reader = csv.DictReader(f)\n",
    "    data = [r for r in reader]"
   ]
  },
  {
   "cell_type": "code",
   "execution_count": 12,
   "metadata": {},
   "outputs": [
    {
     "data": {
      "text/plain": [
       "list"
      ]
     },
     "execution_count": 12,
     "metadata": {},
     "output_type": "execute_result"
    }
   ],
   "source": [
    "type(data)"
   ]
  },
  {
   "cell_type": "code",
   "execution_count": 13,
   "metadata": {},
   "outputs": [
    {
     "data": {
      "text/plain": [
       "{'time': '1430179200',\n",
       " 'high': '229.87',\n",
       " 'low': '222.03',\n",
       " 'open': '228.96',\n",
       " 'close': '225.81',\n",
       " 'volumefrom': '65971.19',\n",
       " 'volumeto': '14896418.52'}"
      ]
     },
     "execution_count": 13,
     "metadata": {},
     "output_type": "execute_result"
    }
   ],
   "source": [
    "data[0]"
   ]
  },
  {
   "cell_type": "code",
   "execution_count": 14,
   "metadata": {},
   "outputs": [],
   "source": [
    "def date_to_timestamp(input_date: str):\n",
    "    return calendar.timegm(time.strptime(input_date, \"%d/%m/%Y\"))"
   ]
  },
  {
   "cell_type": "code",
   "execution_count": 15,
   "metadata": {},
   "outputs": [],
   "source": [
    "start_date = \"01/01/2016\"\n",
    "end_date = \"31/01/2016\""
   ]
  },
  {
   "cell_type": "code",
   "execution_count": 16,
   "metadata": {},
   "outputs": [],
   "source": [
    "start_timestamp = date_to_timestamp(start_date)\n",
    "end_timestamp = date_to_timestamp(end_date)"
   ]
  },
  {
   "cell_type": "code",
   "execution_count": 17,
   "metadata": {},
   "outputs": [
    {
     "name": "stdout",
     "output_type": "stream",
     "text": [
      "1451606400 1454198400\n"
     ]
    }
   ],
   "source": [
    "print(start_timestamp, end_timestamp)"
   ]
  },
  {
   "cell_type": "code",
   "execution_count": 30,
   "metadata": {},
   "outputs": [],
   "source": [
    "df['dt'] = pd.to_datetime(df['time'], unit='s')"
   ]
  },
  {
   "cell_type": "code",
   "execution_count": 31,
   "metadata": {},
   "outputs": [
    {
     "data": {
      "text/html": [
       "<div>\n",
       "<style scoped>\n",
       "    .dataframe tbody tr th:only-of-type {\n",
       "        vertical-align: middle;\n",
       "    }\n",
       "\n",
       "    .dataframe tbody tr th {\n",
       "        vertical-align: top;\n",
       "    }\n",
       "\n",
       "    .dataframe thead th {\n",
       "        text-align: right;\n",
       "    }\n",
       "</style>\n",
       "<table border=\"1\" class=\"dataframe\">\n",
       "  <thead>\n",
       "    <tr style=\"text-align: right;\">\n",
       "      <th></th>\n",
       "      <th>time</th>\n",
       "      <th>high</th>\n",
       "      <th>low</th>\n",
       "      <th>open</th>\n",
       "      <th>close</th>\n",
       "      <th>volumefrom</th>\n",
       "      <th>volumeto</th>\n",
       "      <th>dt</th>\n",
       "    </tr>\n",
       "  </thead>\n",
       "  <tbody>\n",
       "    <tr>\n",
       "      <th>0</th>\n",
       "      <td>1430179200</td>\n",
       "      <td>229.87</td>\n",
       "      <td>222.03</td>\n",
       "      <td>228.96</td>\n",
       "      <td>225.81</td>\n",
       "      <td>65971.19</td>\n",
       "      <td>14896418.52</td>\n",
       "      <td>2015-04-28</td>\n",
       "    </tr>\n",
       "    <tr>\n",
       "      <th>1</th>\n",
       "      <td>1430265600</td>\n",
       "      <td>227.24</td>\n",
       "      <td>222.25</td>\n",
       "      <td>225.81</td>\n",
       "      <td>225.42</td>\n",
       "      <td>60889.41</td>\n",
       "      <td>13743340.35</td>\n",
       "      <td>2015-04-29</td>\n",
       "    </tr>\n",
       "    <tr>\n",
       "      <th>2</th>\n",
       "      <td>1430352000</td>\n",
       "      <td>240.01</td>\n",
       "      <td>224.68</td>\n",
       "      <td>225.42</td>\n",
       "      <td>235.77</td>\n",
       "      <td>112238.62</td>\n",
       "      <td>26242196.77</td>\n",
       "      <td>2015-04-30</td>\n",
       "    </tr>\n",
       "    <tr>\n",
       "      <th>3</th>\n",
       "      <td>1430438400</td>\n",
       "      <td>239.42</td>\n",
       "      <td>232.38</td>\n",
       "      <td>235.77</td>\n",
       "      <td>233.21</td>\n",
       "      <td>60139.08</td>\n",
       "      <td>14178420.18</td>\n",
       "      <td>2015-05-01</td>\n",
       "    </tr>\n",
       "    <tr>\n",
       "      <th>4</th>\n",
       "      <td>1430524800</td>\n",
       "      <td>236.38</td>\n",
       "      <td>231.73</td>\n",
       "      <td>233.21</td>\n",
       "      <td>235.34</td>\n",
       "      <td>37075.60</td>\n",
       "      <td>8703582.59</td>\n",
       "      <td>2015-05-02</td>\n",
       "    </tr>\n",
       "  </tbody>\n",
       "</table>\n",
       "</div>"
      ],
      "text/plain": [
       "         time    high     low    open   close  volumefrom     volumeto  \\\n",
       "0  1430179200  229.87  222.03  228.96  225.81    65971.19  14896418.52   \n",
       "1  1430265600  227.24  222.25  225.81  225.42    60889.41  13743340.35   \n",
       "2  1430352000  240.01  224.68  225.42  235.77   112238.62  26242196.77   \n",
       "3  1430438400  239.42  232.38  235.77  233.21    60139.08  14178420.18   \n",
       "4  1430524800  236.38  231.73  233.21  235.34    37075.60   8703582.59   \n",
       "\n",
       "          dt  \n",
       "0 2015-04-28  \n",
       "1 2015-04-29  \n",
       "2 2015-04-30  \n",
       "3 2015-05-01  \n",
       "4 2015-05-02  "
      ]
     },
     "execution_count": 31,
     "metadata": {},
     "output_type": "execute_result"
    }
   ],
   "source": [
    "df.head()"
   ]
  },
  {
   "cell_type": "code",
   "execution_count": 32,
   "metadata": {},
   "outputs": [
    {
     "data": {
      "text/plain": [
       "time                   int64\n",
       "high                 float64\n",
       "low                  float64\n",
       "open                 float64\n",
       "close                float64\n",
       "volumefrom           float64\n",
       "volumeto             float64\n",
       "dt            datetime64[ns]\n",
       "dtype: object"
      ]
     },
     "execution_count": 32,
     "metadata": {},
     "output_type": "execute_result"
    }
   ],
   "source": [
    "df.dtypes"
   ]
  },
  {
   "cell_type": "code",
   "execution_count": 33,
   "metadata": {},
   "outputs": [
    {
     "data": {
      "text/plain": [
       "'01/01/2016'"
      ]
     },
     "execution_count": 33,
     "metadata": {},
     "output_type": "execute_result"
    }
   ],
   "source": [
    "start_date"
   ]
  },
  {
   "cell_type": "code",
   "execution_count": 36,
   "metadata": {},
   "outputs": [],
   "source": [
    "focus_df = df[df['dt'].between(\"2016-01-01\", \"2016-01-31\")]"
   ]
  },
  {
   "cell_type": "code",
   "execution_count": 38,
   "metadata": {},
   "outputs": [
    {
     "data": {
      "text/html": [
       "<div>\n",
       "<style scoped>\n",
       "    .dataframe tbody tr th:only-of-type {\n",
       "        vertical-align: middle;\n",
       "    }\n",
       "\n",
       "    .dataframe tbody tr th {\n",
       "        vertical-align: top;\n",
       "    }\n",
       "\n",
       "    .dataframe thead th {\n",
       "        text-align: right;\n",
       "    }\n",
       "</style>\n",
       "<table border=\"1\" class=\"dataframe\">\n",
       "  <thead>\n",
       "    <tr style=\"text-align: right;\">\n",
       "      <th></th>\n",
       "      <th>time</th>\n",
       "      <th>high</th>\n",
       "      <th>low</th>\n",
       "      <th>open</th>\n",
       "      <th>close</th>\n",
       "      <th>volumefrom</th>\n",
       "      <th>volumeto</th>\n",
       "      <th>dt</th>\n",
       "    </tr>\n",
       "  </thead>\n",
       "  <tbody>\n",
       "    <tr>\n",
       "      <th>248</th>\n",
       "      <td>1451606400</td>\n",
       "      <td>437.95</td>\n",
       "      <td>425.86</td>\n",
       "      <td>429.95</td>\n",
       "      <td>433.99</td>\n",
       "      <td>46973.12</td>\n",
       "      <td>20334286.58</td>\n",
       "      <td>2016-01-01</td>\n",
       "    </tr>\n",
       "    <tr>\n",
       "      <th>249</th>\n",
       "      <td>1451692800</td>\n",
       "      <td>437.43</td>\n",
       "      <td>430.73</td>\n",
       "      <td>433.99</td>\n",
       "      <td>433.72</td>\n",
       "      <td>33570.39</td>\n",
       "      <td>14566820.95</td>\n",
       "      <td>2016-01-02</td>\n",
       "    </tr>\n",
       "    <tr>\n",
       "      <th>250</th>\n",
       "      <td>1451779200</td>\n",
       "      <td>434.14</td>\n",
       "      <td>423.09</td>\n",
       "      <td>433.72</td>\n",
       "      <td>430.70</td>\n",
       "      <td>54826.26</td>\n",
       "      <td>23490162.61</td>\n",
       "      <td>2016-01-03</td>\n",
       "    </tr>\n",
       "    <tr>\n",
       "      <th>251</th>\n",
       "      <td>1451865600</td>\n",
       "      <td>435.26</td>\n",
       "      <td>428.60</td>\n",
       "      <td>430.70</td>\n",
       "      <td>433.32</td>\n",
       "      <td>53007.87</td>\n",
       "      <td>22943968.22</td>\n",
       "      <td>2016-01-04</td>\n",
       "    </tr>\n",
       "    <tr>\n",
       "      <th>252</th>\n",
       "      <td>1451952000</td>\n",
       "      <td>435.25</td>\n",
       "      <td>428.87</td>\n",
       "      <td>433.32</td>\n",
       "      <td>431.20</td>\n",
       "      <td>45029.87</td>\n",
       "      <td>19499588.99</td>\n",
       "      <td>2016-01-05</td>\n",
       "    </tr>\n",
       "  </tbody>\n",
       "</table>\n",
       "</div>"
      ],
      "text/plain": [
       "           time    high     low    open   close  volumefrom     volumeto  \\\n",
       "248  1451606400  437.95  425.86  429.95  433.99    46973.12  20334286.58   \n",
       "249  1451692800  437.43  430.73  433.99  433.72    33570.39  14566820.95   \n",
       "250  1451779200  434.14  423.09  433.72  430.70    54826.26  23490162.61   \n",
       "251  1451865600  435.26  428.60  430.70  433.32    53007.87  22943968.22   \n",
       "252  1451952000  435.25  428.87  433.32  431.20    45029.87  19499588.99   \n",
       "\n",
       "            dt  \n",
       "248 2016-01-01  \n",
       "249 2016-01-02  \n",
       "250 2016-01-03  \n",
       "251 2016-01-04  \n",
       "252 2016-01-05  "
      ]
     },
     "execution_count": 38,
     "metadata": {},
     "output_type": "execute_result"
    }
   ],
   "source": [
    "focus_df.head()"
   ]
  },
  {
   "cell_type": "code",
   "execution_count": 39,
   "metadata": {},
   "outputs": [
    {
     "data": {
      "text/plain": [
       "268141.73"
      ]
     },
     "execution_count": 39,
     "metadata": {},
     "output_type": "execute_result"
    }
   ],
   "source": [
    "focus_df['volumefrom'].max()"
   ]
  },
  {
   "cell_type": "code",
   "execution_count": 40,
   "metadata": {},
   "outputs": [
    {
     "data": {
      "text/plain": [
       "107060613.4"
      ]
     },
     "execution_count": 40,
     "metadata": {},
     "output_type": "execute_result"
    }
   ],
   "source": [
    "focus_df['volumeto'].max()"
   ]
  },
  {
   "cell_type": "code",
   "execution_count": null,
   "metadata": {},
   "outputs": [],
   "source": []
  }
 ],
 "metadata": {
  "kernelspec": {
   "display_name": "data-analysis",
   "language": "python",
   "name": "python3"
  },
  "language_info": {
   "codemirror_mode": {
    "name": "ipython",
    "version": 3
   },
   "file_extension": ".py",
   "mimetype": "text/x-python",
   "name": "python",
   "nbconvert_exporter": "python",
   "pygments_lexer": "ipython3",
   "version": "3.12.0"
  }
 },
 "nbformat": 4,
 "nbformat_minor": 4
}
