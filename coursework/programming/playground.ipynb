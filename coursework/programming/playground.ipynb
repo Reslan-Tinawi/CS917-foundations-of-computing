{
 "cells": [
  {
   "cell_type": "markdown",
   "metadata": {},
   "source": [
    "1. time: epoch timestamp in second (in UTC time zone) – indicates the day\n",
    "2. high: highest BTC price of the day\n",
    "3. low: lowest BTC price of the day\n",
    "4. open: first BTC price of the day\n",
    "5. close: last BTC price of the day\n",
    "6. volumefrom: total volume (i.e., the total amount of currency exchanged) of the day in BTC\n",
    "7. volumeto: total (i.e., the total amount of currency exchanged) volume of the day in USD\n"
   ]
  },
  {
   "cell_type": "markdown",
   "metadata": {},
   "source": [
    "The data has been collected in daily between 28 April 2015 and 18 October 2020\n"
   ]
  },
  {
   "cell_type": "markdown",
   "metadata": {},
   "source": [
    "There are 2001 days between the start and end dates. Our dataset also consists of 2001 samples, thus, each record represents a day.\n"
   ]
  },
  {
   "cell_type": "code",
   "execution_count": null,
   "metadata": {},
   "outputs": [],
   "source": [
    "import pandas as pd\n",
    "import numpy as np\n",
    "import time\n",
    "import calendar\n",
    "from datetime import datetime\n",
    "import csv\n",
    "import seaborn as sns\n",
    "import plotly.express as px\n",
    "from functools import reduce"
   ]
  },
  {
   "cell_type": "code",
   "execution_count": null,
   "metadata": {},
   "outputs": [],
   "source": [
    "df = pd.read_csv(\"cryptocompare_btc.csv\")\n"
   ]
  },
  {
   "cell_type": "code",
   "execution_count": null,
   "metadata": {},
   "outputs": [],
   "source": [
    "df.head()\n"
   ]
  },
  {
   "cell_type": "code",
   "execution_count": null,
   "metadata": {},
   "outputs": [],
   "source": [
    "df.dtypes\n"
   ]
  },
  {
   "cell_type": "code",
   "execution_count": null,
   "metadata": {},
   "outputs": [],
   "source": [
    "df[\"dt\"] = pd.to_datetime(df[\"time\"], unit=\"s\")\n"
   ]
  },
  {
   "cell_type": "code",
   "execution_count": null,
   "metadata": {},
   "outputs": [],
   "source": [
    "df.head()\n"
   ]
  },
  {
   "cell_type": "code",
   "execution_count": null,
   "metadata": {},
   "outputs": [],
   "source": [
    "df.dtypes\n"
   ]
  },
  {
   "cell_type": "code",
   "execution_count": null,
   "metadata": {},
   "outputs": [],
   "source": [
    "df[\"volume_ratio\"] = df[\"volumeto\"] / df[\"volumefrom\"]"
   ]
  },
  {
   "cell_type": "code",
   "execution_count": null,
   "metadata": {},
   "outputs": [],
   "source": [
    "df.head()\n"
   ]
  },
  {
   "cell_type": "code",
   "execution_count": null,
   "metadata": {},
   "outputs": [],
   "source": [
    "df[\"short_average\"] = df[\"volume_ratio\"].rolling(window=3).mean()\n"
   ]
  },
  {
   "cell_type": "code",
   "execution_count": null,
   "metadata": {},
   "outputs": [],
   "source": [
    "df[\"long_average\"] = df[\"volume_ratio\"].rolling(window=10).mean()\n"
   ]
  },
  {
   "cell_type": "code",
   "execution_count": null,
   "metadata": {},
   "outputs": [],
   "source": [
    "df[\"short_minus_long\"] = df[\"short_average\"] - df[\"long_average\"]"
   ]
  },
  {
   "cell_type": "code",
   "execution_count": null,
   "metadata": {},
   "outputs": [],
   "source": [
    "df.head()"
   ]
  },
  {
   "cell_type": "code",
   "execution_count": null,
   "metadata": {},
   "outputs": [],
   "source": [
    "plot_df = df.melt(\n",
    "    id_vars=[\"dt\"],\n",
    "    value_vars=[\"volume_ratio\", \"short_average\", \"long_average\", \"short_minus_long\"],\n",
    ")\n"
   ]
  },
  {
   "cell_type": "code",
   "execution_count": null,
   "metadata": {},
   "outputs": [],
   "source": [
    "plot_df.head()"
   ]
  },
  {
   "cell_type": "code",
   "execution_count": null,
   "metadata": {},
   "outputs": [],
   "source": [
    "start_date = \"2017/05/01\"\n",
    "end_date = \"2017/06/12\"\n",
    "\n",
    "fig = px.bar(\n",
    "    data_frame=plot_df[plot_df[\"dt\"].between(start_date, end_date)],\n",
    "    x=\"dt\",\n",
    "    y=\"value\",\n",
    "    color=\"variable\",\n",
    "    barmode=\"group\",\n",
    ")\n",
    "\n",
    "fig.show()\n"
   ]
  },
  {
   "cell_type": "code",
   "execution_count": null,
   "metadata": {},
   "outputs": [],
   "source": [
    "start_date = \"2018-09-05\"\n",
    "end_date = \"2018-09-27\"\n",
    "\n",
    "fig = px.bar(\n",
    "    data_frame=plot_df[plot_df[\"dt\"].between(start_date, end_date)],\n",
    "    x=\"dt\",\n",
    "    y=\"value\",\n",
    "    color=\"variable\",\n",
    "    barmode=\"group\",\n",
    ")\n",
    "\n",
    "fig.show()\n"
   ]
  },
  {
   "cell_type": "code",
   "execution_count": null,
   "metadata": {},
   "outputs": [],
   "source": [
    "start_date = \"2019-11-03\"\n",
    "end_date = \"2019-11-14\"\n",
    "\n",
    "fig = px.bar(\n",
    "    data_frame=plot_df[plot_df[\"dt\"].between(start_date, end_date)],\n",
    "    x=\"dt\",\n",
    "    y=\"value\",\n",
    "    color=\"variable\",\n",
    "    barmode=\"group\",\n",
    ")\n",
    "\n",
    "fig.show()\n"
   ]
  },
  {
   "cell_type": "markdown",
   "metadata": {},
   "source": [
    "# Part D"
   ]
  },
  {
   "cell_type": "markdown",
   "metadata": {},
   "source": [
    "## Read CSV file"
   ]
  },
  {
   "cell_type": "code",
   "execution_count": null,
   "metadata": {},
   "outputs": [],
   "source": [
    "# total seconds per day: 24 hours * 60 minutes * 60 seconds\n",
    "SECONDS_PER_DAY = 24 * 60 * 60"
   ]
  },
  {
   "cell_type": "code",
   "execution_count": null,
   "metadata": {},
   "outputs": [],
   "source": [
    "data = []\n",
    "dataset_file_path = \"cryptocompare_btc.csv\""
   ]
  },
  {
   "cell_type": "code",
   "execution_count": null,
   "metadata": {},
   "outputs": [],
   "source": [
    "with open(dataset_file_path, \"r\") as f:\n",
    "    reader = csv.DictReader(f)\n",
    "    data = [r for r in reader]"
   ]
  },
  {
   "cell_type": "code",
   "execution_count": null,
   "metadata": {},
   "outputs": [],
   "source": [
    "data = [dict(record, volume_ratio=float(record[\"volumeto\"]) / float(record[\"volumefrom\"])) for record in data]"
   ]
  },
  {
   "cell_type": "markdown",
   "metadata": {},
   "source": [
    "# Daily high and low"
   ]
  },
  {
   "cell_type": "code",
   "execution_count": null,
   "metadata": {},
   "outputs": [],
   "source": [
    "# start_date, end_date = \"2015/05/04\", \"2015/05/27\"\n",
    "# start_date, end_date = \"2016/02/01\", \"2016/02/28\"\n",
    "start_date, end_date = \"2016/12/08\", \"2016/12/11\""
   ]
  },
  {
   "cell_type": "code",
   "execution_count": null,
   "metadata": {},
   "outputs": [],
   "source": [
    "plot_df = df.loc[df[\"dt\"].between(start_date, end_date)].melt(id_vars=\"dt\", value_vars=[\"high\", \"low\"])"
   ]
  },
  {
   "cell_type": "code",
   "execution_count": null,
   "metadata": {},
   "outputs": [],
   "source": [
    "plot_df.head()"
   ]
  },
  {
   "cell_type": "code",
   "execution_count": null,
   "metadata": {},
   "outputs": [],
   "source": [
    "fig = px.scatter(data_frame=plot_df, x='dt', y='value', color='variable', trendline='ols')\n",
    "\n",
    "fig.show()"
   ]
  },
  {
   "cell_type": "code",
   "execution_count": null,
   "metadata": {},
   "outputs": [],
   "source": []
  }
 ],
 "metadata": {
  "kernelspec": {
   "display_name": "data-analysis",
   "language": "python",
   "name": "python3"
  },
  "language_info": {
   "codemirror_mode": {
    "name": "ipython",
    "version": 3
   },
   "file_extension": ".py",
   "mimetype": "text/x-python",
   "name": "python",
   "nbconvert_exporter": "python",
   "pygments_lexer": "ipython3",
   "version": "3.12.0"
  }
 },
 "nbformat": 4,
 "nbformat_minor": 4
}
